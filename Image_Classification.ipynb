{
  "nbformat": 4,
  "nbformat_minor": 0,
  "metadata": {
    "colab": {
      "provenance": [],
      "toc_visible": true,
      "authorship_tag": "ABX9TyPRc9kGdWVhm0BEeoO3DET2",
      "include_colab_link": true
    },
    "kernelspec": {
      "name": "python3",
      "display_name": "Python 3"
    },
    "language_info": {
      "name": "python"
    }
  },
  "cells": [
    {
      "cell_type": "markdown",
      "metadata": {
        "id": "view-in-github",
        "colab_type": "text"
      },
      "source": [
        "<a href=\"https://colab.research.google.com/github/jarwarayaz/GOOGLE_COLAB/blob/main/Image_Classification.ipynb\" target=\"_parent\"><img src=\"https://colab.research.google.com/assets/colab-badge.svg\" alt=\"Open In Colab\"/></a>"
      ]
    },
    {
      "cell_type": "code",
      "execution_count": null,
      "metadata": {
        "id": "sJBdYbHWhgf0"
      },
      "outputs": [],
      "source": [
        "import numpy as np\n",
        "import random\n",
        "import matplotlib.pyplot as plt\n",
        "from tensorflow.keras.models import Sequential\n",
        "from tensorflow.keras.layers import Conv2D, MaxPooling2D, Dense, Flatten"
      ]
    },
    {
      "cell_type": "code",
      "source": [
        "X_train = np.loadtxt('input.csv', delimiter = ',')\n",
        "Y_train = np.loadtxt('labels.csv', delimiter = ',')\n",
        "\n",
        "X_test = np.loadtxt('input_test.csv', delimiter = ',')\n",
        "Y_test = np.loadtxt('labels_test.csv', delimiter = ',')"
      ],
      "metadata": {
        "id": "vGcg6yxwiSou"
      },
      "execution_count": null,
      "outputs": []
    },
    {
      "cell_type": "code",
      "source": [
        "X_train = X_train.reshape(len(X_train), 100, 100, 3)\n",
        "Y_train = Y_train.reshape(len(Y_train), 1)\n",
        "\n",
        "X_test = X_test.reshape(len(X_test), 100, 100, 3)\n",
        "Y_test = Y_test.reshape(len(Y_test), 1)\n",
        "\n",
        "X_train = X_train/255.0\n",
        "X_test = X_test/255.0"
      ],
      "metadata": {
        "id": "nWcrgblciczd"
      },
      "execution_count": null,
      "outputs": []
    },
    {
      "cell_type": "code",
      "source": [
        "print(\"Shape of X_train: \", X_train.shape)\n",
        "print(\"Shape of Y_train: \", Y_train.shape)\n",
        "print(\"Shape of X_test: \", X_test.shape)\n",
        "print(\"Shape of Y_test: \", Y_test.shape)"
      ],
      "metadata": {
        "id": "eQ4kBTkMiiqk"
      },
      "execution_count": null,
      "outputs": []
    }
  ]
}