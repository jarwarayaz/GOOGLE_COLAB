{
  "nbformat": 4,
  "nbformat_minor": 0,
  "metadata": {
    "colab": {
      "provenance": []
    },
    "kernelspec": {
      "name": "python3",
      "display_name": "Python 3"
    },
    "language_info": {
      "name": "python"
    }
  },
  "cells": [
    {
      "cell_type": "code",
      "execution_count": 1,
      "metadata": {
        "id": "-9rCA70DVdP3"
      },
      "outputs": [],
      "source": [
        "import os\n",
        "import cv2\n",
        "import keras\n",
        "import numpy as np\n",
        "import tensorflow as tf\n",
        "#from google.colab.patches import cv2_imshow\n",
        "from keras.callbacks import ModelCheckpoint\n",
        "from tensorflow.keras.optimizers import Adam\n",
        "from tensorflow.keras.models import Model, Sequential\n",
        "from tensorflow.keras.layers import Dense, Conv2D, Dropout, BatchNormalization, Input,Conv2DTranspose, add, Activation, LeakyReLU"
      ]
    },
    {
      "cell_type": "code",
      "source": [
        "def Res_block():\n",
        "    _input = Input(shape=(None, None, 3))\n",
        "\n",
        "    conv1 = Conv2D(filters=3, kernel_size=(3, 3), strides=(1, 1), padding='same', activation='relu')(_input)\n",
        "    R1 = Activation('relu')(conv1)\n",
        "    conv2 = Conv2D(filters=3, kernel_size=(3, 3), strides=(1, 1), padding='same', activation='linear')(R1)\n",
        "    #conv3 = Conv2D(filters=3, kernel_size=(3, 3), strides=(1, 1), padding='same', activation='linear')(conv2)\n",
        "\n",
        "    out = add(inputs=[_input, conv1,conv2])\n",
        "    #out = Activation('relu')(out)\n",
        "\n",
        "    model1 = Model(inputs=_input, outputs=out)\n",
        "\n",
        "    return model1\n",
        "model1 = Res_block()"
      ],
      "metadata": {
        "id": "ocDKQLzmViYS"
      },
      "execution_count": 2,
      "outputs": []
    },
    {
      "cell_type": "code",
      "source": [
        "model1.summary()"
      ],
      "metadata": {
        "colab": {
          "base_uri": "https://localhost:8080/"
        },
        "id": "EYwdz48GVuag",
        "outputId": "e252a4b7-73d9-4bdf-8a6d-a23d87b26fdc"
      },
      "execution_count": 3,
      "outputs": [
        {
          "output_type": "stream",
          "name": "stdout",
          "text": [
            "Model: \"model\"\n",
            "__________________________________________________________________________________________________\n",
            " Layer (type)                Output Shape                 Param #   Connected to                  \n",
            "==================================================================================================\n",
            " input_1 (InputLayer)        [(None, None, None, 3)]      0         []                            \n",
            "                                                                                                  \n",
            " conv2d (Conv2D)             (None, None, None, 3)        84        ['input_1[0][0]']             \n",
            "                                                                                                  \n",
            " activation (Activation)     (None, None, None, 3)        0         ['conv2d[0][0]']              \n",
            "                                                                                                  \n",
            " conv2d_1 (Conv2D)           (None, None, None, 3)        84        ['activation[0][0]']          \n",
            "                                                                                                  \n",
            " add (Add)                   (None, None, None, 3)        0         ['input_1[0][0]',             \n",
            "                                                                     'conv2d[0][0]',              \n",
            "                                                                     'conv2d_1[0][0]']            \n",
            "                                                                                                  \n",
            "==================================================================================================\n",
            "Total params: 168 (672.00 Byte)\n",
            "Trainable params: 168 (672.00 Byte)\n",
            "Non-trainable params: 0 (0.00 Byte)\n",
            "__________________________________________________________________________________________________\n"
          ]
        }
      ]
    },
    {
      "cell_type": "code",
      "source": [
        "tf.keras.utils.plot_model(\n",
        "    model1, to_file='model.png', show_shapes=False, show_layer_names=True, rankdir='LR', expand_nested=False, dpi=96\n",
        ")"
      ],
      "metadata": {
        "colab": {
          "base_uri": "https://localhost:8080/",
          "height": 194
        },
        "id": "CjH1hsYNV3Hx",
        "outputId": "784bcf4e-a818-4d59-bcb4-c16db40da728"
      },
      "execution_count": 4,
      "outputs": [
        {
          "output_type": "execute_result",
          "data": {
            "image/png": "[encoded data removed]",
            "text/plain": [
              "<IPython.core.display.Image object>"
            ]
          },
          "metadata": {},
          "execution_count": 4
        }
      ]
    },
    {
      "cell_type": "code",
      "source": [],
      "metadata": {
        "id": "zKvi0zipV7Mx"
      },
      "execution_count": 4,
      "outputs": []
    }
  ]
}